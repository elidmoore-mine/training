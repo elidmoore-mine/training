{
 "cells": [
  {
   "cell_type": "code",
   "execution_count": 8,
   "id": "incorporated-thinking",
   "metadata": {},
   "outputs": [
    {
     "name": "stdout",
     "output_type": "stream",
     "text": [
      "  Gender  ApplicantIncome\n",
      "0    NaN           5849.0\n",
      "1   Male           4583.0\n",
      "2   Male           3000.0\n"
     ]
    },
    {
     "data": {
      "image/png": "[encoded data removed]",
      "text/plain": [
       "<Figure size 432x288 with 1 Axes>"
      ]
     },
     "metadata": {
      "needs_background": "light"
     },
     "output_type": "display_data"
    },
    {
     "name": "stdout",
     "output_type": "stream",
     "text": [
      "<class 'pandas.core.frame.DataFrame'>\n",
      "RangeIndex: 16 entries, 0 to 15\n",
      "Data columns (total 7 columns):\n",
      " #   Column             Non-Null Count  Dtype  \n",
      "---  ------             --------------  -----  \n",
      " 0   Loan_ID            16 non-null     object \n",
      " 1   Gender             16 non-null     object \n",
      " 2   ApplicantIncome    16 non-null     float64\n",
      " 3   CoapplicantIncome  16 non-null     float64\n",
      " 4   LoanAmount         16 non-null     float64\n",
      " 5   Area               16 non-null     object \n",
      " 6   Loan_Status        16 non-null     object \n",
      "dtypes: float64(3), object(4)\n",
      "memory usage: 1.0+ KB\n"
     ]
    }
   ],
   "source": [
    "#loads a CSV file, adds headers, adds a couple of columns to the dataset, then does a groupby (like a pivot table)\n",
    "\n",
    "import pandas as pd\n",
    "import numpy as np\n",
    "import sklearn\n",
    "import matplotlib.pyplot as plt\n",
    "\n",
    "data_folder = \"C:\\\\Users\\\\elidmoore\\\\Documents\\Personal Documents\\\\Data Science 2021 Course\\\\004 - Data Preprocessing\\\\\"\n",
    "file_to_open = data_folder + \"loan_small.CSV\"\n",
    "df = open(file_to_open)\n",
    "data = pd.read_csv(df)\n",
    "\n",
    "#read top 5 rows\n",
    "data.head()\n",
    "\n",
    "#access the dataframe data using iloc, gives you the data in a specified range (column 0 through row 3, column 1 through row 3)\n",
    "subset = data.iloc[0:3, 1:3]\n",
    "\n",
    "print(subset)\n",
    "\n",
    "#Read txt file using pandas\n",
    "new_file = data_folder + \"loan_small_tsv.txt\"\n",
    "dataset_t = pd.read_csv(open(new_file), sep='\\t')\n",
    "dataset_t.head()\n",
    "\n",
    "#name all the columns\n",
    "dataset_t.columns\n",
    "\n",
    "#copies the dataset\n",
    "dt = data.copy()\n",
    "\n",
    "#find out the columns w/ missing values\n",
    "data.isnull().sum(axis=0)\n",
    "\n",
    "#drop the rows with the missing values\n",
    "cleandata = data.dropna()\n",
    "\n",
    "#shows that there are no more rows w/ missing values\n",
    "cleandata.isnull().sum(axis=0)\n",
    "\n",
    "#suppose you want to replace null values with the mode\n",
    "cols = ['Gender', 'Area', 'Loan_Status']\n",
    "dt[cols] = dt[cols].fillna(dt.mode().iloc[0])\n",
    "dt.isnull().sum(axis=0)\n",
    "\n",
    "#replace numerical values with mean\n",
    "cols2 = ['ApplicantIncome','CoapplicantIncome','LoanAmount']\n",
    "dt[cols2] = dt[cols2].fillna(dt.mean().iloc[0])\n",
    "dt.isnull().sum(axis=0)\n",
    "\n",
    "#identify type of data\n",
    "dt.dtypes\n",
    "\n",
    "#change the datatypes from object to category and then convert to numerical labels if you wanted\n",
    "#dt[cols] = dt[cols].astype('category')\n",
    "#\n",
    "#for columns in cols:\n",
    "#    dt[columns] = dt[columns].cat.codes\n",
    "    \n",
    "#one hot end coding, convert categorical data to new binary columns for regression\n",
    "dt_encoded = pd.get_dummies(dt, columns=['Gender','Area','Loan_Status'])\n",
    "dt_encoded.head()\n",
    "dt.head()\n",
    "\n",
    "#create normalized version of data puts into numpy series\n",
    "from sklearn.preprocessing import StandardScaler\n",
    "data_to_scale = dt[['ApplicantIncome','CoapplicantIncome','LoanAmount']]\n",
    "data_to_scale.head()\n",
    "scaler_variable = StandardScaler()\n",
    "ss_scaler = scaler_variable.fit_transform(data_to_scale)\n",
    "\n",
    "#converts numpy array into datafram\n",
    "scaler_df = pd.DataFrame(ss_scaler)\n",
    "scaler_df.head()\n",
    "\n",
    "#scale between 0 and 1\n",
    "from sklearn.preprocessing import minmax_scale\n",
    "mm_scaler = minmax_scale(data_to_scale)\n",
    "mm_scaler_df = pd.DataFrame(mm_scaler)\n",
    "mm_scaler_df.head()\n",
    "\n",
    "\n",
    "#split t he ata vertically into X and Y\n",
    "X = dt.iloc[:, :-1] #select all the columns except last one\n",
    "Y = dt.iloc[:, -1]  #select only the last column\n",
    "\n",
    "from sklearn.model_selection import train_test_split\n",
    "x_train, x_test, y_train, y_test = \\\n",
    "    train_test_split(X, Y, test_size=0.2, random_state=1234)\n",
    "\n",
    "#groupby basically create a pivot table\n",
    "dt.groupby(['Gender'])['ApplicantIncome'].mean()\n",
    "\n",
    "#create kernel density chart\n",
    "for x in ['Male','Female']:\n",
    "    dt.ApplicantIncome[dt.Gender==x].plot(kind=\"kde\")\n",
    "    \n",
    "plt.title(\"Applicant Income Distribution by Gender\")\n",
    "plt.show()"
   ]
  }
 ],
 "metadata": {
  "kernelspec": {
   "display_name": "Python 3",
   "language": "python",
   "name": "python3"
  },
  "language_info": {
   "codemirror_mode": {
    "name": "ipython",
    "version": 3
   },
   "file_extension": ".py",
   "mimetype": "text/x-python",
   "name": "python",
   "nbconvert_exporter": "python",
   "pygments_lexer": "ipython3",
   "version": "3.8.8"
  }
 },
 "nbformat": 4,
 "nbformat_minor": 5
}
